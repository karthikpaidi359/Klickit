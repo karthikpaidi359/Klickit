{
  "nbformat": 4,
  "nbformat_minor": 0,
  "metadata": {
    "colab": {
      "provenance": [],
      "authorship_tag": "ABX9TyP0uNgMv2Vdnh1vfwqonYk7",
      "include_colab_link": true
    },
    "kernelspec": {
      "name": "python3",
      "display_name": "Python 3"
    },
    "language_info": {
      "name": "python"
    }
  },
  "cells": [
    {
      "cell_type": "markdown",
      "metadata": {
        "id": "view-in-github",
        "colab_type": "text"
      },
      "source": [
        "<a href=\"https://colab.research.google.com/github/karthikpaidi359/Klickit/blob/main/klickit_ai_simplifier.ipynb\" target=\"_parent\"><img src=\"https://colab.research.google.com/assets/colab-badge.svg\" alt=\"Open In Colab\"/></a>"
      ]
    },
    {
      "cell_type": "code",
      "source": [
        "# ✅ Install necessary packages\n",
        "!pip install transformers sentencepiece gradio gtts --quiet\n",
        "\n",
        "# ✅ Imports\n",
        "import gradio as gr\n",
        "from transformers import pipeline\n",
        "from gtts import gTTS\n",
        "\n",
        "# ✅ Load FLAN-T5 model\n",
        "model = pipeline(\"text2text-generation\", model=\"google/flan-t5-base\")\n",
        "\n",
        "# ✅ Define function to explain concept with more detail\n",
        "def explain_concept(concept):\n",
        "    if not concept.strip():\n",
        "        return \"❗ Please enter a valid concept.\", None\n",
        "\n",
        "    # ✍️ Enhanced prompt for longer response\n",
        "    prompt = f\"Explain in detail what {concept} means in simple terms. Give at least 3 full sentences anyone can understand.\"\n",
        "\n",
        "    result = model(prompt, max_length=300, do_sample=False)[0]['generated_text'].strip()\n",
        "\n",
        "    # Convert to speech (audio uses just the first few lines for clarity)\n",
        "    short_text = result.split(\".\")[0] + \".\" if \".\" in result else result\n",
        "    tts = gTTS(short_text)\n",
        "    tts.save(\"explanation.mp3\")\n",
        "\n",
        "    return result, \"explanation.mp3\"\n",
        "\n",
        "# ✅ UI with custom branding (Klickit)\n",
        "with gr.Blocks(theme=gr.themes.Soft()) as demo:\n",
        "    gr.Markdown(\"\"\"\n",
        "    <h1 style=\"text-align:center; color:#0C7DB1;\">🚀 Klickit</h1>\n",
        "    <p style=\"text-align:center;\">Simplify any complex concept into clear, human language — powered by AI.</p>\n",
        "    \"\"\")\n",
        "\n",
        "    with gr.Row():\n",
        "        concept_input = gr.Textbox(placeholder=\"e.g. Inflation, Neural Networks, DNA...\", label=\"🧠 Enter Concept\")\n",
        "\n",
        "    with gr.Row():\n",
        "        explain_button = gr.Button(\"✨ Klick to Explain\")\n",
        "\n",
        "    with gr.Row():\n",
        "        output_text = gr.Textbox(label=\"📘 Simplified Explanation\", lines=10)\n",
        "\n",
        "    with gr.Row():\n",
        "        audio_output = gr.Audio(label=\"🔊 Listen to Explanation\")\n",
        "\n",
        "    explain_button.click(fn=explain_concept, inputs=concept_input, outputs=[output_text, audio_output])\n",
        "\n",
        "# ✅ Launch with public gradio.live link\n",
        "demo.launch(share=True)\n"
      ],
      "metadata": {
        "colab": {
          "base_uri": "https://localhost:8080/",
          "height": 608
        },
        "id": "jOBg9jJlJck0",
        "outputId": "37f22815-7a17-4134-8fe5-5f3601c07b6c"
      },
      "execution_count": 19,
      "outputs": [
        {
          "output_type": "stream",
          "name": "stderr",
          "text": [
            "Device set to use cpu\n"
          ]
        },
        {
          "output_type": "stream",
          "name": "stdout",
          "text": [
            "Colab notebook detected. To show errors in colab notebook, set debug=True in launch()\n",
            "* Running on public URL: https://0b9d0bdee48facc00c.gradio.live\n",
            "\n",
            "This share link expires in 1 week. For free permanent hosting and GPU upgrades, run `gradio deploy` from the terminal in the working directory to deploy to Hugging Face Spaces (https://huggingface.co/spaces)\n"
          ]
        },
        {
          "output_type": "display_data",
          "data": {
            "text/plain": [
              "<IPython.core.display.HTML object>"
            ],
            "text/html": [
              "<div><iframe src=\"https://0b9d0bdee48facc00c.gradio.live\" width=\"100%\" height=\"500\" allow=\"autoplay; camera; microphone; clipboard-read; clipboard-write;\" frameborder=\"0\" allowfullscreen></iframe></div>"
            ]
          },
          "metadata": {}
        },
        {
          "output_type": "execute_result",
          "data": {
            "text/plain": []
          },
          "metadata": {},
          "execution_count": 19
        }
      ]
    }
  ]
}